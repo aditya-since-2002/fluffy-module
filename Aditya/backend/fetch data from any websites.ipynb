{
 "cells": [
  {
   "cell_type": "code",
   "execution_count": 8,
   "id": "64cf55ae",
   "metadata": {},
   "outputs": [
    {
     "name": "stdout",
     "output_type": "stream",
     "text": [
      "\n",
      "\n",
      "\n",
      "\n",
      "next →\n",
      "← prev\n",
      "\n",
      "Types of Operating Systems\n",
      "There are many types of operating system exists in the current scenario:\n",
      "Batch Operating System\n",
      "In the era of 1970s, the Batch processing was very popular. The Jobs were executed in batches. People were used to have a single computer which was called mainframe.\n",
      "In Batch operating system, access is given to more than one person; they submit their respective jobs to the system for the execution. \n",
      "The system put all of the jobs in a queue on the basis of first come first serve and then executes the jobs one by one. The users collect their respective output when all the jobs get executed. \n",
      "\n",
      "Disadvantages of Batch OS\n",
      "1. Starvation\n",
      "Batch processing suffers from starvation. If there are five jobs J1, J2, J3, J4 and J5 present in the batch. If the execution time of J1 is very high then other four jobs will never be going to get executed or they will have to wait for a very high time. Hence the other processes get starved.\n",
      "2. Not Interactive\n",
      "Batch Processing is not suitable for the jobs which are dependent on the user's input. If a job requires the input of two numbers from the console then it will never be going to get it in the batch processing scenario since the user is not present at the time of execution.\n",
      "Multiprogramming Operating System\n",
      "Multiprogramming is an extension to the batch processing where the CPU is kept always busy. Each process needs two types of system time: CPU time and IO time.\n",
      "In multiprogramming environment, for the time a process does its I/O, The CPU can start the execution of other processes. Therefore, multiprogramming improves the efficiency of the system.\n",
      "Multiprocessing Operating System\n",
      "In Multiprocessing, Parallel computing is achieved. There are more than one processors present in the system which can execute more than one process at the same time. This will increase the throughput of the system.\n",
      "\n",
      "Real Time Operating System\n",
      "In Real Time systems, each job carries a certain deadline within which the Job is supposed to be completed, otherwise the huge loss will be there or even if the result is produced then it will be completely useless.\n",
      "The Application of a Real Time system exists in the case of military applications, if you want to drop a missile then the missile is supposed to be dropped with certain precision.\n",
      "\n",
      "\n",
      "Next TopicProcess Management Introduction\n",
      "\n",
      "\n",
      "\n",
      "← prev\n",
      "next →\n",
      "\n",
      "\n",
      "\n",
      "\n",
      "\n",
      "https://static.javatpoint.com/operating-system/images/batch-operating-system.png\n"
     ]
    }
   ],
   "source": [
    "import requests\n",
    "import pandas as pd\n",
    "from bs4 import BeautifulSoup\n",
    "  \n",
    "# link for extract html data\n",
    "def getdata(url):\n",
    "    r = requests.get(url)\n",
    "    return r.text\n",
    "htmldata = getdata(\"https://www.javatpoint.com/types-of-os\")\n",
    "soup = BeautifulSoup(htmldata, 'html.parser')\n",
    "data = ''\n",
    "for data in soup.find_all('div', { \"id\" : \"city\"}):\n",
    "    print(data.get_text())\n",
    "img_src = soup.find('div', { \"id\" : \"city\"}).img['src']\n",
    "print(img_src)"
   ]
  },
  {
   "cell_type": "code",
   "execution_count": null,
   "id": "595f6893",
   "metadata": {},
   "outputs": [],
   "source": []
  }
 ],
 "metadata": {
  "kernelspec": {
   "display_name": "Python 3",
   "language": "python",
   "name": "python3"
  },
  "language_info": {
   "codemirror_mode": {
    "name": "ipython",
    "version": 3
   },
   "file_extension": ".py",
   "mimetype": "text/x-python",
   "name": "python",
   "nbconvert_exporter": "python",
   "pygments_lexer": "ipython3",
   "version": "3.8.8"
  }
 },
 "nbformat": 4,
 "nbformat_minor": 5
}
